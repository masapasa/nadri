{
 "cells": [
  {
   "cell_type": "code",
   "execution_count": 1,
   "id": "b7410b78",
   "metadata": {},
   "outputs": [],
   "source": [
    "from spacy import displacy\n",
    "import transformers\n",
    "from transformers import (AutoModelForTokenClassification, \n",
    "                          AutoTokenizer, \n",
    "                          pipeline)"
   ]
  },
  {
   "cell_type": "code",
   "execution_count": 2,
   "id": "ea29a540",
   "metadata": {},
   "outputs": [],
   "source": [
    "model_checkpoint = \"spanbert-large-cased-finetuned-ADE\""
   ]
  },
  {
   "cell_type": "code",
   "execution_count": 3,
   "id": "4b6c5ce8",
   "metadata": {},
   "outputs": [],
   "source": [
    "tokenizer = AutoTokenizer.from_pretrained(model_checkpoint)"
   ]
  },
  {
   "cell_type": "code",
   "execution_count": 4,
   "id": "8ab5ed5b",
   "metadata": {},
   "outputs": [],
   "source": [
    "model = AutoModelForTokenClassification.from_pretrained(model_checkpoint)"
   ]
  },
  {
   "cell_type": "code",
   "execution_count": 8,
   "id": "e1e281b2",
   "metadata": {},
   "outputs": [],
   "source": [
    "effect_ner_model = pipeline(task=\"ner\", model=model, tokenizer=tokenizer, grouped_entities=True)"
   ]
  },
  {
   "cell_type": "markdown",
   "id": "80ad1c4e",
   "metadata": {},
   "source": [
    "\n",
    "We try out the first few examples of adverse effects from the Wikipedia page on adverse effects and visualize with the displaCy library:\n",
    "\n",
    "https://en.wikipedia.org/wiki/Adverse_effect#Medications"
   ]
  },
  {
   "cell_type": "code",
   "execution_count": 9,
   "id": "01234b99",
   "metadata": {},
   "outputs": [],
   "source": [
    "def visualize_entities(sentence):\n",
    "    tokens = effect_ner_model(sentence)\n",
    "    entities = []\n",
    "    \n",
    "    for token in tokens:\n",
    "        label = token[\"entity_group\"]\n",
    "        if label != \"O\":\n",
    "            token[\"label\"] = label\n",
    "            entities.append(token)\n",
    "    \n",
    "    params = [{\"text\": sentence,\n",
    "               \"ents\": entities,\n",
    "               \"title\": None}]\n",
    "    \n",
    "    html = displacy.render(params, style=\"ent\", manual=True, options={\n",
    "        \"colors\": {\n",
    "                   \"DRUG\": \"#f08080\",\n",
    "                   \"ADR\": \"#9bddff\",\n",
    "               },\n",
    "    })\n",
    "    "
   ]
  },
  {
   "cell_type": "code",
   "execution_count": null,
   "id": "7deae81e",
   "metadata": {
    "scrolled": true
   },
   "outputs": [],
   "source": [
    "examples = [\n",
    "    \"Abortion, miscarriage or uterine hemorrhage associated with misoprostol (Cytotec), a labor-inducing drug.\",\n",
    "    \"Addiction to many sedatives and analgesics, such as diazepam, morphine, etc.\",\n",
    "    \"Birth defects associated with thalidomide\",\n",
    "    \"Bleeding of the intestine associated with aspirin therapy\",\n",
    "    \"Cardiovascular disease associated with COX-2 inhibitors (i.e. Vioxx)\",\n",
    "    \"Deafness and kidney failure associated with gentamicin (an antibiotic)\",\n",
    "    \"Having fever after taking paracetamol\"\n",
    "]\n",
    "\n",
    "for example in examples:\n",
    "    visualize_entities(example)\n",
    "    print()"
   ]
  }
 ],
 "metadata": {
  "kernelspec": {
   "display_name": "conda_pytorch_p36",
   "language": "python",
   "name": "conda_pytorch_p36"
  },
  "language_info": {
   "codemirror_mode": {
    "name": "ipython",
    "version": 3
   },
   "file_extension": ".py",
   "mimetype": "text/x-python",
   "name": "python",
   "nbconvert_exporter": "python",
   "pygments_lexer": "ipython3",
   "version": "3.6.13"
  }
 },
 "nbformat": 4,
 "nbformat_minor": 5
}
